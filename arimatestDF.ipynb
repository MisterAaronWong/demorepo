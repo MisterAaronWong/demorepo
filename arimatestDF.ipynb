{
 "cells": [
  {
   "cell_type": "code",
   "execution_count": 1,
   "id": "ce2caac9",
   "metadata": {},
   "outputs": [
    {
     "name": "stdout",
     "output_type": "stream",
     "text": [
      "           Rate (Overall)\n",
      "DATE                     \n",
      "1/1/2000              4.0\n",
      "2/1/2000              4.1\n",
      "3/1/2000              4.0\n",
      "4/1/2000              3.8\n",
      "5/1/2000              4.0\n",
      "6/1/2000              4.0\n",
      "7/1/2000              4.0\n",
      "8/1/2000              4.1\n",
      "9/1/2000              3.9\n",
      "10/1/2000             3.9\n",
      "11/1/2000             3.9\n",
      "12/1/2000             3.9\n",
      "1/1/2001              4.2\n",
      "2/1/2001              4.2\n",
      "3/1/2001              4.3\n",
      "4/1/2001              4.4\n",
      "5/1/2001              4.3\n",
      "6/1/2001              4.5\n",
      "7/1/2001              4.6\n",
      "8/1/2001              4.9\n"
     ]
    }
   ],
   "source": [
    "# line plot of time series\n",
    "import pandas as pd\n",
    "from pandas import read_csv\n",
    "from matplotlib import pyplot\n",
    "# load dataset\n",
    "df = pd.read_csv('Resources/overall_monthly.csv', header=0, index_col=0)\n",
    "# display first few rows\n",
    "print(df.head(20))"
   ]
  },
  {
   "cell_type": "code",
   "execution_count": 2,
   "id": "5f71374f",
   "metadata": {},
   "outputs": [
    {
     "data": {
      "image/png": "[encoded data removed]",
      "text/plain": [
       "<Figure size 432x288 with 1 Axes>"
      ]
     },
     "metadata": {
      "needs_background": "light"
     },
     "output_type": "display_data"
    }
   ],
   "source": [
    "# line plot of dataset\n",
    "df.plot()\n",
    "pyplot.show()"
   ]
  },
  {
   "cell_type": "markdown",
   "id": "f7b9e3d9",
   "metadata": {},
   "source": [
    "## Split the Dataset"
   ]
  },
  {
   "cell_type": "code",
   "execution_count": 3,
   "id": "956da704",
   "metadata": {
    "scrolled": true
   },
   "outputs": [
    {
     "name": "stdout",
     "output_type": "stream",
     "text": [
      "Dataset 252, Validation 12\n"
     ]
    }
   ],
   "source": [
    "# split the dataset\n",
    "split_point = len(df) - 12\n",
    "dataset, validation = df[0:split_point], df[split_point:]\n",
    "print('Dataset %d, Validation %d' % (len(dataset), len(validation)))"
   ]
  },
  {
   "cell_type": "code",
   "execution_count": 4,
   "id": "d23dd458",
   "metadata": {},
   "outputs": [],
   "source": [
    "dataset.to_csv('dataset.csv', index=False)\n",
    "validation.to_csv('validation.csv', index=False)"
   ]
  },
  {
   "cell_type": "markdown",
   "id": "6875ef61",
   "metadata": {},
   "source": [
    "## Develop the Model"
   ]
  },
  {
   "cell_type": "code",
   "execution_count": 5,
   "id": "e1072a2b",
   "metadata": {},
   "outputs": [],
   "source": [
    "# create a differenced df\n",
    "def difference(dataset, interval=1):\n",
    "    diff = list()\n",
    "    for i in range(interval, len(dataset)):\n",
    "        value = dataset[i] - dataset[i - interval]\n",
    "        diff.append(value)\n",
    "    return numpy.array(diff)"
   ]
  },
  {
   "cell_type": "code",
   "execution_count": 6,
   "id": "a84d0691",
   "metadata": {},
   "outputs": [],
   "source": [
    "# invert differenced value\n",
    "def inverse_difference(history, yhat, interval=1):\n",
    "    return yhat + history[-interval]"
   ]
  },
  {
   "cell_type": "code",
   "execution_count": 7,
   "id": "0a95fb00",
   "metadata": {},
   "outputs": [],
   "source": [
    "from statsmodels.tsa.arima.model import ARIMA\n",
    "import numpy\n",
    " \n",
    "# create a differenced df\n",
    "def difference(dataset, interval=1):\n",
    "    diff = list()\n",
    "    for i in range(interval, len(dataset)):\n",
    "        value = dataset[i] - dataset[i - interval]\n",
    "        diff.append(value)\n",
    "    return numpy.array(diff)"
   ]
  },
  {
   "cell_type": "code",
   "execution_count": 8,
   "id": "18ba1087",
   "metadata": {},
   "outputs": [
    {
     "name": "stdout",
     "output_type": "stream",
     "text": [
      "                               SARIMAX Results                                \n",
      "==============================================================================\n",
      "Dep. Variable:                      y   No. Observations:                  240\n",
      "Model:                ARIMA(12, 0, 1)   Log Likelihood                -260.267\n",
      "Date:                Thu, 17 Mar 2022   AIC                            550.534\n",
      "Time:                        19:41:50   BIC                            602.743\n",
      "Sample:                             0   HQIC                           571.570\n",
      "                                - 240                                         \n",
      "Covariance Type:                  opg                                         \n",
      "==============================================================================\n",
      "                 coef    std err          z      P>|z|      [0.025      0.975]\n",
      "------------------------------------------------------------------------------\n",
      "const          0.2719      1.302      0.209      0.835      -2.280       2.824\n",
      "ar.L1          0.3059      0.950      0.322      0.747      -1.556       2.167\n",
      "ar.L2          0.5015      0.942      0.532      0.594      -1.344       2.347\n",
      "ar.L3         -0.0152      0.312     -0.049      0.961      -0.627       0.597\n",
      "ar.L4         -0.0521      0.212     -0.246      0.806      -0.468       0.363\n",
      "ar.L5          0.0710      0.252      0.282      0.778      -0.422       0.564\n",
      "ar.L6         -0.0131      0.286     -0.046      0.964      -0.574       0.548\n",
      "ar.L7          0.0011      0.653      0.002      0.999      -1.279       1.281\n",
      "ar.L8          0.0318      0.315      0.101      0.919      -0.585       0.649\n",
      "ar.L9          0.2458      0.767      0.320      0.749      -1.258       1.749\n",
      "ar.L10        -0.0757      0.638     -0.119      0.905      -1.325       1.174\n",
      "ar.L11         0.1077      0.865      0.124      0.901      -1.588       1.803\n",
      "ar.L12        -0.2994      0.550     -0.544      0.586      -1.378       0.779\n",
      "ma.L1          0.6857      0.958      0.716      0.474      -1.193       2.564\n",
      "sigma2         0.5029      0.028     17.736      0.000       0.447       0.559\n",
      "===================================================================================\n",
      "Ljung-Box (L1) (Q):                   0.02   Jarque-Bera (JB):            323666.13\n",
      "Prob(Q):                              0.90   Prob(JB):                         0.00\n",
      "Heteroskedasticity (H):              41.87   Skew:                            12.53\n",
      "Prob(H) (two-sided):                  0.00   Kurtosis:                       181.15\n",
      "===================================================================================\n",
      "\n",
      "Warnings:\n",
      "[1] Covariance matrix calculated using the outer product of gradients (complex-step).\n"
     ]
    }
   ],
   "source": [
    "import warnings\n",
    "warnings.filterwarnings('ignore')\n",
    "# load dataset\n",
    "df1 = pd.read_csv('dataset.csv', header=0)\n",
    "# seasonal difference\n",
    "X = df1.values\n",
    "months_in_year = 12\n",
    "differenced = difference(X, months_in_year)\n",
    "# fit model\n",
    "model = ARIMA(differenced, order=(12,0,1))\n",
    "model_fit = model.fit()\n",
    "# print summary of fit model\n",
    "print(model_fit.summary())"
   ]
  },
  {
   "cell_type": "markdown",
   "id": "25bd3941",
   "metadata": {},
   "source": [
    "## One-Step-Out-of-Sample Forecast"
   ]
  },
  {
   "cell_type": "markdown",
   "id": "ece69d83",
   "metadata": {},
   "source": [
    "### Forecast Function"
   ]
  },
  {
   "cell_type": "code",
   "execution_count": 9,
   "id": "b23aeea1",
   "metadata": {},
   "outputs": [],
   "source": [
    "# one-step out-of sample forecast\n",
    "forecast = model_fit.forecast()[0]"
   ]
  },
  {
   "cell_type": "code",
   "execution_count": 10,
   "id": "aca56cbd",
   "metadata": {},
   "outputs": [],
   "source": [
    "# invert the differenced forecast to something usable\n",
    "forecast = inverse_difference(X, forecast, months_in_year)"
   ]
  },
  {
   "cell_type": "code",
   "execution_count": 11,
   "id": "4ba2b37c",
   "metadata": {},
   "outputs": [
    {
     "name": "stdout",
     "output_type": "stream",
     "text": [
      "Forecast: 9.029207\n"
     ]
    }
   ],
   "source": [
    "print('Forecast: %f' % forecast)"
   ]
  },
  {
   "cell_type": "markdown",
   "id": "b7ab9350",
   "metadata": {},
   "source": [
    "### Predict Function"
   ]
  },
  {
   "cell_type": "code",
   "execution_count": 12,
   "id": "b3809005",
   "metadata": {},
   "outputs": [],
   "source": [
    "# one-step out of sample forecast\n",
    "start_index = len(differenced)\n",
    "end_index = len(differenced)\n",
    "forecast = model_fit.predict(start=start_index, end=end_index)"
   ]
  },
  {
   "cell_type": "code",
   "execution_count": 13,
   "id": "f4a70035",
   "metadata": {},
   "outputs": [
    {
     "name": "stdout",
     "output_type": "stream",
     "text": [
      "Forecast: 9.029207\n"
     ]
    }
   ],
   "source": [
    "# invert the differenced forecast to something usable\n",
    "forecast = inverse_difference(X, forecast, months_in_year)\n",
    "print('Forecast: %f' % forecast)"
   ]
  },
  {
   "cell_type": "markdown",
   "id": "3d613f31",
   "metadata": {},
   "source": [
    "## Multi-Step Out-of-Sample Forecast"
   ]
  },
  {
   "cell_type": "markdown",
   "id": "9321d3ce",
   "metadata": {},
   "source": [
    "### Forecast Function"
   ]
  },
  {
   "cell_type": "code",
   "execution_count": 14,
   "id": "6217fc72",
   "metadata": {},
   "outputs": [],
   "source": [
    "# multi-step out-of-sample forecast\n",
    "forecast = model_fit.forecast(steps=12)[0]"
   ]
  },
  {
   "cell_type": "code",
   "execution_count": 15,
   "id": "28c212dc",
   "metadata": {},
   "outputs": [
    {
     "name": "stdout",
     "output_type": "stream",
     "text": [
      "Month 1: 9.029207\n",
      "Month 2: 8.746452\n",
      "Month 3: 11.117755\n",
      "Month 4: 18.271482\n",
      "Month 5: 16.254119\n",
      "Month 6: 13.072020\n",
      "Month 7: 11.453012\n",
      "Month 8: 9.733497\n",
      "Month 9: 8.710199\n",
      "Month 10: 8.556219\n",
      "Month 11: 8.180917\n",
      "Month 12: 9.054077\n"
     ]
    }
   ],
   "source": [
    "from pandas import read_csv\n",
    "from statsmodels.tsa.arima.model import ARIMA\n",
    "import numpy\n",
    " \n",
    "# create a differenced series\n",
    "def difference(dataset, interval=1):\n",
    "\tdiff = list()\n",
    "\tfor i in range(interval, len(dataset)):\n",
    "\t\tvalue = dataset[i] - dataset[i - interval]\n",
    "\t\tdiff.append(value)\n",
    "\treturn numpy.array(diff)\n",
    " \n",
    "# invert differenced value\n",
    "def inverse_difference(history, yhat, interval=1):\n",
    "\treturn yhat + history[-interval]\n",
    " \n",
    "# load dataset\n",
    "df = pd.read_csv('dataset.csv', header=0)\n",
    "# seasonal difference\n",
    "X = df.values\n",
    "months_in_year = 12\n",
    "differenced = difference(X, months_in_year)\n",
    "# fit model\n",
    "model = ARIMA(differenced, order=(12,0,1))\n",
    "model_fit = model.fit()\n",
    "# multi-step out-of-sample forecast\n",
    "forecast = model_fit.forecast(steps=12)\n",
    "# invert the differenced forecast to something usable\n",
    "history = [x for x in X]\n",
    "month = 1\n",
    "for yhat in forecast:\n",
    "\tinverted = inverse_difference(history, yhat, months_in_year)\n",
    "\tprint('Month %d: %f' % (month, inverted))\n",
    "\thistory.append(inverted)\n",
    "\tmonth += 1"
   ]
  },
  {
   "cell_type": "markdown",
   "id": "73d44786",
   "metadata": {},
   "source": [
    "### Predict Function"
   ]
  },
  {
   "cell_type": "code",
   "execution_count": 16,
   "id": "9508566e",
   "metadata": {},
   "outputs": [
    {
     "name": "stdout",
     "output_type": "stream",
     "text": [
      "Month 1: 9.029207\n",
      "Month 2: 8.746452\n",
      "Month 3: 11.117755\n",
      "Month 4: 18.271482\n",
      "Month 5: 16.254119\n",
      "Month 6: 13.072020\n",
      "Month 7: 11.453012\n",
      "Month 8: 9.733497\n",
      "Month 9: 8.710199\n",
      "Month 10: 8.556219\n",
      "Month 11: 8.180917\n",
      "Month 12: 9.054077\n"
     ]
    }
   ],
   "source": [
    "# Predict Function\n",
    "from pandas import read_csv\n",
    "from statsmodels.tsa.arima.model import ARIMA\n",
    "import numpy\n",
    " \n",
    "# create a differenced series\n",
    "def difference(dataset, interval=1):\n",
    "\tdiff = list()\n",
    "\tfor i in range(interval, len(dataset)):\n",
    "\t\tvalue = dataset[i] - dataset[i - interval]\n",
    "\t\tdiff.append(value)\n",
    "\treturn numpy.array(diff)\n",
    " \n",
    "# invert differenced value\n",
    "def inverse_difference(history, yhat, interval=1):\n",
    "\treturn yhat + history[-interval]\n",
    " \n",
    "# load dataset\n",
    "df = pd.read_csv('dataset.csv', header=0)\n",
    "# seasonal difference\n",
    "X = df.values\n",
    "months_in_year = 12\n",
    "differenced = difference(X, months_in_year)\n",
    "# fit model\n",
    "model = ARIMA(differenced, order=(12,0,1))\n",
    "model_fit = model.fit()\n",
    "# multi-step out-of-sample forecast\n",
    "start_index = len(differenced)\n",
    "end_index = start_index + 11\n",
    "forecast = model_fit.predict(start=start_index, end=end_index)\n",
    "# invert the differenced forecast to something usable\n",
    "history = [x for x in X]\n",
    "month = 1\n",
    "for yhat in forecast:\n",
    "\tinverted = inverse_difference(history, yhat, months_in_year)\n",
    "\tprint('Month %d: %f' % (month, inverted))\n",
    "\thistory.append(inverted)\n",
    "\tmonth += 1"
   ]
  },
  {
   "cell_type": "code",
   "execution_count": null,
   "id": "a070f093",
   "metadata": {},
   "outputs": [],
   "source": []
  }
 ],
 "metadata": {
  "kernelspec": {
   "display_name": "mlenv",
   "language": "python",
   "name": "mlenv"
  },
  "language_info": {
   "codemirror_mode": {
    "name": "ipython",
    "version": 3
   },
   "file_extension": ".py",
   "mimetype": "text/x-python",
   "name": "python",
   "nbconvert_exporter": "python",
   "pygments_lexer": "ipython3",
   "version": "3.7.11"
  }
 },
 "nbformat": 4,
 "nbformat_minor": 5
}
