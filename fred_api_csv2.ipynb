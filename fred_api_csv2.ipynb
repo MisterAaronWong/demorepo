{
 "cells": [
  {
   "cell_type": "code",
   "execution_count": 1,
   "id": "e9d48598",
   "metadata": {},
   "outputs": [],
   "source": [
    "import pandas as pd\n",
    "from fredapi import Fred\n",
    "from config import fred_key\n",
    "from functools import reduce\n",
    "fred = Fred(api_key=fred_key)"
   ]
  },
  {
   "cell_type": "code",
   "execution_count": 2,
   "id": "764514e6",
   "metadata": {},
   "outputs": [],
   "source": [
    "fred = [\"EMRATIO\",\"UNEMPLOY\", 'JTSJOL', 'JTS3000JOL', 'JTS6000JOL','JTU5100JOL','JTU5200JOL']\n",
    "dataframes = []"
   ]
  },
  {
   "cell_type": "code",
   "execution_count": null,
   "id": "4340a3dc",
   "metadata": {},
   "outputs": [],
   "source": [
    "for ind in fred:\n",
    "    df = pd.DataFrame(fred.get_series(ind, observation_start='2000-1-1'))\n",
    "    df.index.names = ['date']\n",
    "    dataframes.append(df)"
   ]
  },
  {
   "cell_type": "code",
   "execution_count": null,
   "id": "5a5512ca",
   "metadata": {},
   "outputs": [],
   "source": [
    "counter = 0\n",
    "for dataframe in dataframes:\n",
    "    print(fred_more[counter])\n",
    "    print(df.head())\n",
    "    print(df.tail())\n",
    "    counter = counter + 1"
   ]
  },
  {
   "cell_type": "code",
   "execution_count": null,
   "id": "058bc89a",
   "metadata": {},
   "outputs": [],
   "source": [
    "addition = reduce(lambda x, y: pd.merge(x, y, on='date'), dataframes)\n",
    "addition.columns = fred_more\n",
    "addition.to_csv(\"Resources/additional.csv\")"
   ]
  }
 ],
 "metadata": {
  "kernelspec": {
   "display_name": "PythonData",
   "language": "python",
   "name": "pythondata"
  },
  "language_info": {
   "codemirror_mode": {
    "name": "ipython",
    "version": 3
   },
   "file_extension": ".py",
   "mimetype": "text/x-python",
   "name": "python",
   "nbconvert_exporter": "python",
   "pygments_lexer": "ipython3",
   "version": "3.7.10"
  }
 },
 "nbformat": 4,
 "nbformat_minor": 5
}
