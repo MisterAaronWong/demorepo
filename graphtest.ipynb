{
 "cells": [
  {
   "cell_type": "code",
   "execution_count": 1,
   "id": "ef10f4da",
   "metadata": {},
   "outputs": [],
   "source": [
    "from fredapi import Fred\n",
    "from pymongo import MongoClient\n",
    "import pandas as pd\n",
    "from config import fred_key\n",
    "from functools import reduce\n",
    "fred = Fred(api_key=fred_key)\n",
    "import matplotlib.pyplot as plt\n",
    "import plotly\n",
    "import matplotlib.pyplot as plt\n",
    "import plotly.express as px\n",
    "import plotly.graph_objs as go\n",
    "from datetime import datetime\n",
    "import datetime"
   ]
  },
  {
   "cell_type": "code",
   "execution_count": 2,
   "id": "12265659",
   "metadata": {},
   "outputs": [],
   "source": [
    "# # time series plot for multiple columns\n",
    "start_date = '2001-01-01'\n",
    "end_date =  '2002-01-01'\n",
    "dates = pd.date_range(start_date, end_date, freq='MS')\n",
    "fig = go.FigureWidget()\n",
    "fig.update_layout(title=\"Rate Comparison\")\n",
    "graph_indexes = [\"EMRATIO\",\"UNEMPLOY\",\"JTSJOL\",\"JTS3000JOL\",\"JTS6000JOL\",\"JTS9000JOL\", \"CUSR0000SAF112\",\n",
    "\"JTU5100JOL\",\"JTU5200JOL\"]"
   ]
  },
  {
   "cell_type": "code",
   "execution_count": 3,
   "id": "4aa867ef",
   "metadata": {},
   "outputs": [],
   "source": [
    "counter = 0"
   ]
  },
  {
   "cell_type": "code",
   "execution_count": 4,
   "id": "dca05103",
   "metadata": {},
   "outputs": [],
   "source": [
    "for d in graph_indexes:\n",
    "    # scrape API to dataframe\n",
    "    df = pd.DataFrame(fred.get_series(d, observation_start='2001-01-01'))\n",
    "    \n",
    "    # change column names\n",
    "    ##df = df.rename(columns={'EMRATIO': 'Employment-Population Ratio', 'UNEMPLOY': 'Unemployment Level', \n",
    "                        ##'JTSJOL': 'Total Non-Farm Jobs', 'JTS3000JOL':'Manufacturing Jobs', \n",
    "                        ##'JTS6000JOL': 'Education/Health Services Jobs', 'JTS9000JOL': 'Government Jobs', \n",
    "                       ##'CUSR0000SAF112': 'Meat/Poultry/Fish/Eggs Consumer Price',\n",
    "                       ##'JTU5100JOL': 'Information Jobs', 'JTU5200JOL': 'Finance/Insurance Jobs'})\n",
    "    \n",
    "    df.index.names = ['date']\n",
    "    \n",
    "    newnames = ['Employment-Population Ratio', 'Unemployment Level',\n",
    "    'Total Non-Farm Jobs', 'Manufacturing Jobs', \n",
    "   'Education/Health Services Jobs', \n",
    "   'Government Jobs', \n",
    "   'Meat/Poultry/Fish/Eggs Consumer Price', \n",
    "   'Information Jobs', 'Finance/Insurance Jobs']\n",
    "    \n",
    "    # convert dataframe to list\n",
    "    df_list = df.values.tolist()\n",
    "\n",
    "    # flatten list\n",
    "    df_list = [item for subl in df_list for item in subl]\n",
    "\n",
    "    # add index to graph\n",
    "    fig.add_scatter(x=dates, y= df_list, name = newnames[counter], selected=None)\n",
    "                  \n",
    "    fig.layout.xaxis.tickvals = pd.date_range(start_date, end_date, freq='MS')\n",
    "    \n",
    "    counter = counter + 1\n",
    "    ## make the ticks bold      \n",
    "    # fig.layout.xaxis.tickformat = '%Y'\n",
    "    # fig.layout.xaxis.tickvals = ['2000-01-01','2007-01-01', '2007-09-01', '2008-01-01', '2008-09-01', '2009-01-01', '2010-01-01', '2011-01-01',   '2012-01-01', '2013-01-01', '2014-01-01', '2015-01-01', '2016-01-01', '2022-03-09']\n",
    "    # fig.layout.xaxis.ticktext =  ['2000','2007', 'Financial Crisis Starts', '2008', 'Financial Crisis Ends', '2009', '2010', '2011',  '2012', '2013', '2014', '2015', '2016','2022-03-09']"
   ]
  },
  {
   "cell_type": "code",
   "execution_count": 5,
   "id": "181cd11e",
   "metadata": {},
   "outputs": [],
   "source": [
    "##df = pd.DataFrame(graph_indexes)"
   ]
  },
  {
   "cell_type": "code",
   "execution_count": 6,
   "id": "827defba",
   "metadata": {},
   "outputs": [],
   "source": [
    "# change column names\n",
    "##df_list = df_list.rename(columns={'EMRATIO': 'Employment-Population Ratio', 'UNEMPLOY': 'Unemployment Level', \n",
    "                        ##'JTSJOL': 'Total Non-Farm Jobs', 'JTS3000JOL':'Manufacturing Jobs', \n",
    "                        ##'JTS6000JOL': 'Education/Health Services Jobs', 'JTS9000JOL': 'Government Jobs', \n",
    "                       ##'CUSR0000SAF112': 'Meat/Poultry/Fish/Eggs Consumer Price',\n",
    "                       ##'JTU5100JOL': 'Information Jobs', 'JTU5200JOL': 'Finance/Insurance Jobs'})\n",
    "\n",
    "##df.columns = ['Employment-Population Ratio', 'Unemployment Level', 'Total Non-Farm Jobs', 'Manufacturing Jobs',\n",
    "              ##'Education/Health Services Jobs', 'Government Jobs', 'Meat/Poultry/Fish/Eggs Consumer Price', \n",
    "              ##'Information Jobs', 'Finance/Insurance Jobs']"
   ]
  },
  {
   "cell_type": "code",
   "execution_count": 7,
   "id": "d06728c9",
   "metadata": {},
   "outputs": [],
   "source": [
    "# dump graph to html\n",
    "fig.write_html(\"Event_Impact_new.html\")"
   ]
  },
  {
   "cell_type": "code",
   "execution_count": null,
   "id": "99886d37",
   "metadata": {},
   "outputs": [],
   "source": []
  }
 ],
 "metadata": {
  "kernelspec": {
   "display_name": "mlenv",
   "language": "python",
   "name": "mlenv"
  },
  "language_info": {
   "codemirror_mode": {
    "name": "ipython",
    "version": 3
   },
   "file_extension": ".py",
   "mimetype": "text/x-python",
   "name": "python",
   "nbconvert_exporter": "python",
   "pygments_lexer": "ipython3",
   "version": "3.7.11"
  }
 },
 "nbformat": 4,
 "nbformat_minor": 5
}
