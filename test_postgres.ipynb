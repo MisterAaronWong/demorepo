{
 "cells": [
  {
   "cell_type": "code",
   "execution_count": 1,
   "id": "afff8720",
   "metadata": {},
   "outputs": [
    {
     "ename": "ModuleNotFoundError",
     "evalue": "No module named 'fredapi'",
     "output_type": "error",
     "traceback": [
      "\u001b[1;31m---------------------------------------------------------------------------\u001b[0m",
      "\u001b[1;31mModuleNotFoundError\u001b[0m                       Traceback (most recent call last)",
      "\u001b[1;32m~\\AppData\\Local\\Temp/ipykernel_572/2293358122.py\u001b[0m in \u001b[0;36m<module>\u001b[1;34m\u001b[0m\n\u001b[1;32m----> 1\u001b[1;33m \u001b[1;32mfrom\u001b[0m \u001b[0mfredapi\u001b[0m \u001b[1;32mimport\u001b[0m \u001b[0mFred\u001b[0m\u001b[1;33m\u001b[0m\u001b[1;33m\u001b[0m\u001b[0m\n\u001b[0m\u001b[0;32m      2\u001b[0m \u001b[1;32mimport\u001b[0m \u001b[0mpandas\u001b[0m \u001b[1;32mas\u001b[0m \u001b[0mpd\u001b[0m\u001b[1;33m\u001b[0m\u001b[1;33m\u001b[0m\u001b[0m\n\u001b[0;32m      3\u001b[0m \u001b[1;32mfrom\u001b[0m \u001b[0mconfig\u001b[0m \u001b[1;32mimport\u001b[0m \u001b[0mfred_key\u001b[0m\u001b[1;33m\u001b[0m\u001b[1;33m\u001b[0m\u001b[0m\n\u001b[0;32m      4\u001b[0m \u001b[1;32mfrom\u001b[0m \u001b[0mfunctools\u001b[0m \u001b[1;32mimport\u001b[0m \u001b[0mreduce\u001b[0m\u001b[1;33m\u001b[0m\u001b[1;33m\u001b[0m\u001b[0m\n\u001b[0;32m      5\u001b[0m \u001b[0mfred\u001b[0m \u001b[1;33m=\u001b[0m \u001b[0mFred\u001b[0m\u001b[1;33m(\u001b[0m\u001b[0mapi_key\u001b[0m\u001b[1;33m=\u001b[0m\u001b[0mfred_key\u001b[0m\u001b[1;33m)\u001b[0m\u001b[1;33m\u001b[0m\u001b[1;33m\u001b[0m\u001b[0m\n",
      "\u001b[1;31mModuleNotFoundError\u001b[0m: No module named 'fredapi'"
     ]
    }
   ],
   "source": [
    "from fredapi import Fred\n",
    "import pandas as pd\n",
    "from config import fred_key\n",
    "from functools import reduce\n",
    "fred = Fred(api_key=fred_key)\n",
    "import matplotlib.pyplot as plt\n",
    "import plotly\n",
    "import matplotlib.pyplot as plt\n",
    "import plotly.express as px\n",
    "import plotly.graph_objs as go\n",
    "import seaborn as sb"
   ]
  },
  {
   "cell_type": "code",
   "execution_count": null,
   "id": "e8e71ea8",
   "metadata": {},
   "outputs": [],
   "source": [
    "my_pass = mongo_password\n",
    "user_name = mongo_user\n",
    "connection_string = \"mongodb+srv://\" + user_name + \":\" + my_pass + \"@project1.q26cg.mongodb.net/project1?retryWrites=true&w=majority\""
   ]
  },
  {
   "cell_type": "code",
   "execution_count": null,
   "id": "e8cf8e6b",
   "metadata": {},
   "outputs": [],
   "source": [
    "### connect to mongo \n",
    "try:\n",
    "    print(\"connecting to mongo\")\n",
    "    client = MongoClient(connection_string)\n",
    "    print(\"connected to mongo\")\n",
    "except Exception as e:\n",
    "    print(\"error: \" + str(e))"
   ]
  },
  {
   "cell_type": "code",
   "execution_count": null,
   "id": "6df89c7e",
   "metadata": {},
   "outputs": [],
   "source": [
    "db = client.project1\n",
    "# print(db)\n",
    "collection = db.project1"
   ]
  },
  {
   "cell_type": "code",
   "execution_count": null,
   "id": "a68635be",
   "metadata": {},
   "outputs": [],
   "source": [
    "### clear the collection \n",
    "collection.remove({})\n",
    "for record in collection.find().limit(1):\n",
    "    print(record)\n",
    "print(\"loading df\")"
   ]
  },
  {
   "cell_type": "code",
   "execution_count": null,
   "id": "61c386dc",
   "metadata": {},
   "outputs": [],
   "source": [
    "fred_more = [\"EMRATIO\",\"UNEMPLOY\", 'JTSJOL', 'JTS3000JOL', 'JTS6000JOL','JTU5100JOL','JTU5200JOL']\n",
    "dataframes = []\n",
    "for ind in fred_more:\n",
    "    df1 = pd.DataFrame(fred.get_series(ind, observation_start='1990-1-1'))\n",
    "    df1.index.names = ['date']\n",
    "    dataframes.append(df1)"
   ]
  },
  {
   "cell_type": "code",
   "execution_count": null,
   "id": "6593bc9b",
   "metadata": {},
   "outputs": [],
   "source": [
    "addition = reduce(lambda x, y: pd.merge(x, y, on='date', how = 'outer'), dataframes)\n",
    "addition.columns = fred_more\n",
    "addition.reset_index(inplace = True, drop = False)\n",
    "# print(addition.head(3))"
   ]
  },
  {
   "cell_type": "code",
   "execution_count": null,
   "id": "446180f9",
   "metadata": {},
   "outputs": [],
   "source": [
    "### load dataframes into mongo \n",
    "collection2.insert_many(addition.to_dict('records'))\n",
    "### read one back \n",
    "cursor2=collection2.find()\n",
    "# for record in cursor2.limit(1):\n",
    "#     print(record)"
   ]
  }
 ],
 "metadata": {
  "kernelspec": {
   "display_name": "mlenv",
   "language": "python",
   "name": "mlenv"
  },
  "language_info": {
   "codemirror_mode": {
    "name": "ipython",
    "version": 3
   },
   "file_extension": ".py",
   "mimetype": "text/x-python",
   "name": "python",
   "nbconvert_exporter": "python",
   "pygments_lexer": "ipython3",
   "version": "3.7.11"
  }
 },
 "nbformat": 4,
 "nbformat_minor": 5
}
